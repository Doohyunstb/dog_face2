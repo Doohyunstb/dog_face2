{
  "nbformat": 4,
  "nbformat_minor": 0,
  "metadata": {
    "colab": {
      "provenance": [],
      "authorship_tag": "ABX9TyPXy6QhyTylqZ+H0H8WoFCI",
      "include_colab_link": true
    },
    "kernelspec": {
      "name": "python3",
      "display_name": "Python 3"
    },
    "language_info": {
      "name": "python"
    }
  },
  "cells": [
    {
      "cell_type": "markdown",
      "metadata": {
        "id": "view-in-github",
        "colab_type": "text"
      },
      "source": [
        "<a href=\"https://colab.research.google.com/github/Doohyunstb/dog_face2/blob/main/add_known_face.ipynb\" target=\"_parent\"><img src=\"https://colab.research.google.com/assets/colab-badge.svg\" alt=\"Open In Colab\"/></a>"
      ]
    },
    {
      "cell_type": "code",
      "execution_count": null,
      "metadata": {
        "id": "goAAR9nWGQ_4"
      },
      "outputs": [],
      "source": [
        "def draw_label(input_image, coordinates, label):\n",
        "    image = input_image.copy()\n",
        "    (top, right, bottom, left) = coordinates\n",
        "    cv2.rectangle(image, (left, top), (right, bottom), (0, 255, 0), 5)\n",
        "    cv2.putText(image, label, (left - 10, top - 10), cv2.FONT_HERSHEY_SIMPLEX, 2, (0, 255, 0), 3)\n",
        "\n",
        "    return image\n",
        "\n",
        "def add_known_face(face_image_path, name):\n",
        "    face_image = cv2.imread(face_image_path)\n",
        "    dets_locations = face_locations(face_image, 1)\n",
        "    face_encoding = face_recognition.face_encodings(face_image, dets_locations)[0]\n",
        "\n",
        "    detected_face_image = draw_label(face_image, dets_locations[0], name)\n",
        "\n",
        "    known_face_encodings.append(face_encoding)\n",
        "    known_face_names.append(name)\n",
        "\n",
        "    plt_imshow([\"Input Image\", \"Detected Face\"], [face_image, detected_face_image])\n",
        "\n",
        "\n",
        "def name_labeling(input_image, size=None):\n",
        "    image = input_image.copy()\n",
        "\n",
        "    if size:\n",
        "        image = imutils.resize(image, width=size)\n",
        "\n",
        "\n",
        "    dets_locations = face_locations(image)\n",
        "    face_encodings = face_recognition.face_encodings(image, dets_locations)\n",
        "\n",
        "    face_names = []\n",
        "\n",
        "    for face_encoding in face_encodings:\n",
        "        matches = face_recognition.compare_faces(known_face_encodings, face_encoding, tolerance=0.4)\n",
        "        name = \"Unknown\"\n",
        "\n",
        "        face_distances = face_recognition.face_distance(known_face_encodings, face_encoding)\n",
        "        best_match_index = np.argmin(face_distances)\n",
        "\n",
        "        if matches[best_match_index]:\n",
        "            name = known_face_names[best_match_index]\n",
        "\n",
        "        face_names.append(name)\n",
        "\n",
        "    for (top, right, bottom, left), name in zip(dets_locations, face_names):\n",
        "        if name != \"Unknown\":\n",
        "            color = (0, 255, 0)\n",
        "        else:\n",
        "            color = (0, 0, 255)\n",
        "\n",
        "        cv2.rectangle(image, (left, top), (right, bottom), color, 1)\n",
        "        cv2.rectangle(image, (left, bottom - 10), (right, bottom), color, cv2.FILLED)\n",
        "        font = cv2.FONT_HERSHEY_DUPLEX\n",
        "        cv2.putText(image, name, (left + 3, bottom - 3), font, 0.2, (0, 0, 0), 1)\n",
        "\n",
        "    plt_imshow(\"Output\", image, figsize=(24, 15))"
      ]
    }
  ]
}